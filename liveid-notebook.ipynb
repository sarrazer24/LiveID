{
 "cells": [
  {
   "cell_type": "code",
   "execution_count": 1,
   "id": "e5c7bd73",
   "metadata": {
    "_cell_guid": "b1076dfc-b9ad-4769-8c92-a6c4dae69d19",
    "_uuid": "8f2839f25d086af736a60e9eeb907d3b93b6e0e5",
    "execution": {
     "iopub.execute_input": "2025-09-02T10:38:47.595302Z",
     "iopub.status.busy": "2025-09-02T10:38:47.594851Z",
     "iopub.status.idle": "2025-09-02T10:38:49.521938Z",
     "shell.execute_reply": "2025-09-02T10:38:49.520731Z"
    },
    "papermill": {
     "duration": 1.932685,
     "end_time": "2025-09-02T10:38:49.523947",
     "exception": false,
     "start_time": "2025-09-02T10:38:47.591262",
     "status": "completed"
    },
    "tags": []
   },
   "outputs": [
    {
     "name": "stdout",
     "output_type": "stream",
     "text": [
      "                                  SetId  UserRace  Age     Name  \\\n",
      "0  0001cc1e1e--61af8513667cba1b47349869  Hispanic   25  Weslley   \n",
      "1  0001cc1e1e--61af8513667cba1b47349869  Hispanic   25  Weslley   \n",
      "2  0001cc1e1e--61af8513667cba1b47349869  Hispanic   25  Weslley   \n",
      "3  0001cc1e1e--61af8513667cba1b47349869  Hispanic   25  Weslley   \n",
      "4  0001cc1e1e--61af8513667cba1b47349869  Hispanic   25  Weslley   \n",
      "\n",
      "           FName                                                URL  \n",
      "0       ID_1.jpg  0001cc1e1e--61af8513667cba1b47349869_age_25_na...  \n",
      "1       ID_2.jpg  0001cc1e1e--61af8513667cba1b47349869_age_25_na...  \n",
      "2   Selfie_1.jpg  0001cc1e1e--61af8513667cba1b47349869_age_25_na...  \n",
      "3  Selfie_10.jpg  0001cc1e1e--61af8513667cba1b47349869_age_25_na...  \n",
      "4  Selfie_11.jpg  0001cc1e1e--61af8513667cba1b47349869_age_25_na...  \n",
      "Index(['SetId', 'UserRace', 'Age', 'Name', 'FName', 'URL'], dtype='object')\n"
     ]
    }
   ],
   "source": [
    "import pandas as pd\n",
    "\n",
    "df = pd.read_csv(\"/kaggle/input/selfies-id-images-dataset/selfie_id.csv\")\n",
    "print(df.head())\n",
    "print(df.columns)\n"
   ]
  }
 ],
 "metadata": {
  "kaggle": {
   "accelerator": "none",
   "dataSources": [
    {
     "datasetId": 2298863,
     "sourceId": 6232149,
     "sourceType": "datasetVersion"
    }
   ],
   "dockerImageVersionId": 31089,
   "isGpuEnabled": false,
   "isInternetEnabled": false,
   "language": "python",
   "sourceType": "notebook"
  },
  "kernelspec": {
   "display_name": "Python 3",
   "language": "python",
   "name": "python3"
  },
  "language_info": {
   "codemirror_mode": {
    "name": "ipython",
    "version": 3
   },
   "file_extension": ".py",
   "mimetype": "text/x-python",
   "name": "python",
   "nbconvert_exporter": "python",
   "pygments_lexer": "ipython3",
   "version": "3.11.13"
  },
  "papermill": {
   "default_parameters": {},
   "duration": 7.860088,
   "end_time": "2025-09-02T10:38:50.045482",
   "environment_variables": {},
   "exception": null,
   "input_path": "__notebook__.ipynb",
   "output_path": "__notebook__.ipynb",
   "parameters": {},
   "start_time": "2025-09-02T10:38:42.185394",
   "version": "2.6.0"
  }
 },
 "nbformat": 4,
 "nbformat_minor": 5
}
